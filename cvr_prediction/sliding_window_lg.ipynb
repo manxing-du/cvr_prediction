{
 "cells": [
  {
   "cell_type": "code",
   "execution_count": 1,
   "metadata": {
    "collapsed": true
   },
   "outputs": [],
   "source": [
    "import numpy as np\n",
    "import pandas as pd\n",
    "from lr_model import LR_predict,LR_fit_country\n",
    "from NB_model import NB_predict\n",
    "import scipy as sp\n",
    "from scipy.sparse import coo_matrix, hstack\n",
    "from sklearn.cluster import KMeans\n",
    "from sklearn.datasets import load_svmlight_file\n",
    "\n",
    "import pickle\n",
    "from read_sparse_matrix import convert_to_sparse_matrix\n",
    "from kmeans_cluster import Run_Kmeans\n",
    "from sklearn.metrics import roc_curve, auc, roc_auc_score, mean_squared_error\n",
    "\n",
    "\n",
    "from sklearn.preprocessing import OneHotEncoder\n",
    "\n",
    "\n",
    "\n",
    "train = pd.read_csv(\"../Data/initial-parse/train_1519.txt\", header=0,sep=',',index_col=False\n",
    "                    )\n",
    "\n",
    "test = pd.read_csv(\"../Data/initial-parse/test_2021.txt\", header=0, sep=',', index_col=False\n",
    "                   )\n",
    "#[[\"hour\", \"weekday\", \"country_code\", \"idoperator\", \"idhardware\", \"idbrowser\", \"idos\",\n",
    "#  \"idcampaign\", \"idcat\", \"idaffiliate\", \"aff_type\", \"purchase\", \"idcampaign_diff_cvr_1\", \"user_id_diff_cvr_1\",\n",
    "#  \"decay_purchase_delta\", \"decay_delta\", \"decay_mean\"]]\n",
    "\n",
    "train['uniform_price'].fillna(0,inplace=True)\n",
    "test['uniform_price'].fillna(0,inplace=True)\n",
    "\n",
    "\n",
    "train_df = train[[\"hour\", \"weekday\", \"country_code\", \"idoperator\", \"idhardware\", \"idbrowser\", \"idos\",\n",
    "                  \"idcampaign\", \"idcat\", \"idaffiliate\", \"aff_type\", \"purchase\", \"idcampaign_diff_cvr_1\",\n",
    "                  \"user_id_diff_cvr_1\", \"uniform_price\", \"date_added_full\", \"user_id\"]].dropna()\n",
    "test_df = test[[\"hour\", \"weekday\", \"country_code\", \"idoperator\", \"idhardware\", \"idbrowser\", \"idos\",\n",
    "                \"idcampaign\", \"idcat\", \"idaffiliate\", \"aff_type\", \"purchase\", \"idcampaign_diff_cvr_1\",\n",
    "                \"user_id_diff_cvr_1\", \"uniform_price\", \"date_added_full\", \"user_id\"]].dropna()\n",
    "\n",
    "\n",
    "\n",
    "\n",
    "merged_df = pd.concat([train_df,test_df], axis=0)"
   ]
  },
  {
   "cell_type": "code",
   "execution_count": null,
   "metadata": {
    "collapsed": false
   },
   "outputs": [],
   "source": [
    "print merged_df.tail()"
   ]
  },
  {
   "cell_type": "code",
   "execution_count": 33,
   "metadata": {
    "collapsed": false
   },
   "outputs": [],
   "source": [
    "merged_df = merged_df.reset_index(drop=True)"
   ]
  },
  {
   "cell_type": "code",
   "execution_count": 37,
   "metadata": {
    "collapsed": false
   },
   "outputs": [
    {
     "name": "stdout",
     "output_type": "stream",
     "text": [
      "started encoding\n"
     ]
    }
   ],
   "source": [
    "merged_df = merged_df.replace([-1],[2])\n",
    "all_features = merged_df[[\"hour\", \"weekday\", \"country_code\", \"idoperator\", \"idhardware\", \"idbrowser\", \"idos\",\n",
    "                            \"idcampaign\", \"idcat\", \"idaffiliate\", \"aff_type\",\"idcampaign_diff_cvr_1\", \"user_id_diff_cvr_1\"]].values\n",
    "\n",
    "print \"started encoding\"\n",
    "#encoded_features = pd.get_dummies(train_df)\n",
    "#print encoded_features.shape\n",
    "enc = OneHotEncoder(dtype=int)\n",
    "encoded_features = enc.fit_transform(all_features)"
   ]
  },
  {
   "cell_type": "code",
   "execution_count": 38,
   "metadata": {
    "collapsed": false
   },
   "outputs": [
    {
     "name": "stdout",
     "output_type": "stream",
     "text": [
      "(17552659, 2722)\n"
     ]
    }
   ],
   "source": [
    "print encoded_features.shape"
   ]
  },
  {
   "cell_type": "code",
   "execution_count": 218,
   "metadata": {
    "collapsed": false
   },
   "outputs": [
    {
     "name": "stdout",
     "output_type": "stream",
     "text": [
      "2015071518\n",
      "2015071519\n",
      "2015071520\n",
      "2015071521\n",
      "2015071522\n",
      "2015071523\n",
      "2015071618\n",
      "2015071619\n",
      "2015071620\n",
      "2015071621\n",
      "2015071622\n",
      "2015071623\n",
      "2015071718\n",
      "2015071719\n",
      "2015071720\n",
      "2015071721\n",
      "2015071722\n",
      "2015071723\n",
      "2015071818\n",
      "2015071819\n",
      "2015071820\n",
      "2015071821\n",
      "2015071822\n",
      "2015071823\n",
      "2015071918\n",
      "2015071919\n",
      "2015071920\n",
      "2015071921\n",
      "2015071922\n",
      "2015071923\n",
      "2015072018\n",
      "2015072019\n",
      "2015072020\n",
      "2015072021\n",
      "2015072022\n",
      "2015072023\n"
     ]
    }
   ],
   "source": [
    "day_start = 2015071500\n",
    "###### change window size \n",
    "auc_dict = {}\n",
    "def get_sliding_window_index(df,day_start,window_size):\n",
    "    training_window = []\n",
    "    test_window = []\n",
    "    for j in range(0,6):\n",
    "        if j == 0:\n",
    "            sliding_window_start = day_start\n",
    "        else:\n",
    "            sliding_window_start = day_start + 100 * j\n",
    "        next_day = sliding_window_start + 100\n",
    "            \n",
    "        breaking_point = window_size*(24/window_size -1) -1\n",
    "        \n",
    "        for i in range(0,breaking_point):\n",
    "            start = df.loc[df['date_added_full'] == sliding_window_start].index.tolist()[0]\n",
    "            stop = df.loc[df['date_added_full'] == sliding_window_start+window_size].index.tolist()[0]\n",
    "            training_window.append((start,stop))\n",
    "\n",
    "            start_test = stop\n",
    "            stop_test = df.loc[df['date_added_full'] == sliding_window_start+window_size+1].index.tolist()[0]\n",
    "            test_window.append((start_test,stop_test))\n",
    "           \n",
    "            sliding_window_start +=  1\n",
    "            \n",
    "        for i in range(breaking_point,24):\n",
    "            if i == breaking_point:\n",
    "                start = df.loc[df['date_added_full'] == sliding_window_start].index.tolist()[0]\n",
    "                stop =  df.loc[df['date_added_full'] == sliding_window_start + window_size].index.tolist()[0]\n",
    "                training_window.append((start, stop))\n",
    "                \n",
    "                start_test = stop\n",
    "                stop_test = df.loc[df['date_added_full'] == next_day].index.tolist()[0]\n",
    "                test_window.append((start_test,stop_test))\n",
    "                \n",
    "            else:\n",
    "                print sliding_window_start\n",
    "                start = df.loc[df['date_added_full'] == sliding_window_start].index.tolist()[0]\n",
    "                stop =  df.loc[df['date_added_full'] == next_day + i - breaking_point - 1].index.tolist()[0]\n",
    "                training_window.append((start, stop))\n",
    "                \n",
    "                start_test = stop\n",
    "                stop_test = df.loc[df['date_added_full'] == next_day + i - breaking_point].index.tolist()[0]\n",
    "                test_window.append((start_test,stop_test))\n",
    "            sliding_window_start +=1\n",
    "        \n",
    "    return training_window,test_window\n",
    "    \n",
    "\n",
    "window_size = [6]    \n",
    "for wsize in window_size:\n",
    "    training_window, test_window = get_sliding_window_index(merged_df,day_start,wsize)\n",
    "\n",
    "    \n",
    "    AUC_list = []\n",
    "    for item in zip(training_window,test_window):\n",
    "    \n",
    "        mtx_train = encoded_features[item[0][0]:item[0][1],]\n",
    "        mtx_test = encoded_features[item[1][0]:item[1][1],]\n",
    "        label_train = merged_df[['purchase']].values[item[0][0]:item[0][1]]\n",
    "        label_test = merged_df[['purchase']].values[item[1][0]:item[1][1]]\n",
    "        pCVR, predict_CVR, auc_score, lg_rmse = LR_predict(mtx_train,label_train,mtx_test,label_test)\n",
    "        AUC_list.append(auc_score)\n",
    "    \n",
    "    \n",
    "\n",
    "    #plt.ioff()\n",
    "    #fig = plt.figure()\n",
    "    # Create an axes instance\n",
    "    #ax = fig.add_subplot(111)\n",
    "    #ax.plot(AUC_list,color='k')\n",
    "    #ax.set_xlim([0,150])\n",
    "    #plt.xlabel(\"hours\")\n",
    "    #plt.ylabel(\"AUC\")\n",
    "    #plt.grid()\n",
    "    #filename = \"AUC_list_\" + str(wsize) + \".pdf\"\n",
    "    #plt.savefig('../Figures/0715-19/'+ filename)\n",
    "    #plt.close(fig)\n",
    "    \n",
    "    if wsize not in auc_dict:\n",
    "        auc_dict[wsize] = AUC_list\n"
   ]
  },
  {
   "cell_type": "code",
   "execution_count": 217,
   "metadata": {
    "collapsed": false
   },
   "outputs": [
    {
     "name": "stdout",
     "output_type": "stream",
     "text": [
      "[]\n"
     ]
    }
   ],
   "source": [
    "print auc_dict.keys()"
   ]
  },
  {
   "cell_type": "code",
   "execution_count": 57,
   "metadata": {
    "collapsed": false
   },
   "outputs": [],
   "source": [
    "for key, item in auc_dict.iteritems():\n",
    "    item[0:0] = [0] * (int(key)-1)\n",
    "    plt.ioff()\n",
    "    fig = plt.figure()\n",
    "    # Create an axes instance\n",
    "    ax = fig.add_subplot(111)\n",
    "    ax.plot(item,color='k')\n",
    "    ax.set_xlim([0,150+11])\n",
    "    ax.set_ylim([0.70,0.85])\n",
    "    plt.xlabel(\"hours\")\n",
    "    plt.ylabel(\"AUC_value\")\n",
    "    plt.grid()\n",
    "    filename = \"AUC_list_\" + str(key) + \".pdf\"\n",
    "    plt.savefig('../Figures/0715-19/'+ filename)\n",
    "    plt.close(fig)"
   ]
  },
  {
   "cell_type": "code",
   "execution_count": 164,
   "metadata": {
    "collapsed": true
   },
   "outputs": [],
   "source": [
    "backup = auc_dict"
   ]
  },
  {
   "cell_type": "code",
   "execution_count": null,
   "metadata": {
    "collapsed": false
   },
   "outputs": [],
   "source": [
    "print backup.keys()\n",
    "print auc_dict"
   ]
  },
  {
   "cell_type": "code",
   "execution_count": 166,
   "metadata": {
    "collapsed": true
   },
   "outputs": [],
   "source": [
    "###insert 0 for plot CAN ONLY RUN ONCE!!!!! otherwise will insert multiple 0's\n",
    "for key in sorted(backup.iterkeys()):\n",
    "    backup[key][0:0] = [0] * (int(key)-1)"
   ]
  },
  {
   "cell_type": "code",
   "execution_count": 168,
   "metadata": {
    "collapsed": false
   },
   "outputs": [
    {
     "name": "stdout",
     "output_type": "stream",
     "text": [
      "1\n",
      "4\n",
      "6\n",
      "8\n",
      "12\n"
     ]
    }
   ],
   "source": [
    "plt.ioff()\n",
    "f, (ax1, ax2, ax3, ax4, ax5) = plt.subplots(5, sharex=True, sharey=True)\n",
    "for key, ax_value in zip(sorted(auc_dict.iterkeys()),[ax1,ax2,ax3,ax4,ax5]):\n",
    "    print key\n",
    "    item = auc_dict[key]\n",
    "    ax_value.plot(item,color='k')\n",
    "    ax_value.set_xlim([0,150+11])\n",
    "    ax_value.set_ylim([0.70,0.85])\n",
    "    ax_value.set_yticks(np.arange(0.70,0.82,0.05))\n",
    "    if key == 12:\n",
    "        ax_value.set_xlabel = (\"hour\")\n",
    "        \n",
    "f.subplots_adjust(hspace=0)\n",
    "#plt.set_xlim([0,150+11])\n",
    "#plt.set_ylim([0.70,0.85])\n",
    "plt.setp([a.get_xticklabels() for a in f.axes[:-1]], visible=False)\n",
    "\n",
    "f.text(0.5, 0.04, 'hour', ha='center')\n",
    "f.text(0.04, 0.5, 'AUC', va='center', rotation='vertical')\n",
    "filename = \"AUC_combine.pdf\"\n",
    "plt.savefig('../Figures/0715-19/'+ filename)\n",
    "plt.close(fig)"
   ]
  },
  {
   "cell_type": "code",
   "execution_count": 175,
   "metadata": {
    "collapsed": false
   },
   "outputs": [],
   "source": [
    "y=[]\n",
    "for key in sorted(auc_dict.iterkeys()):\n",
    "    y.append(auc_dict[key])\n",
    "    \n",
    "plt.ioff()\n",
    "fig = plt.figure()\n",
    "# Create an axes instance\n",
    "ax = fig.add_subplot(111)\n",
    "bp = ax.boxplot(y)\n",
    "plt.setp(bp['boxes'], color='k')\n",
    "plt.setp(bp['whiskers'], color='k')\n",
    "ax.set_ylim([0.7,0.85])\n",
    "ax.set_ylim([0.7,0.85])\n",
    "plt.xticks([1,2,3,4,5], [1,4,6,8,12])\n",
    "ax.set_xlabel(\"Window size\")\n",
    "ax.set_ylabel(\"AUC\")\n",
    "plt.savefig('../Figures/0715-19/sliding_window_boxplot.pdf',bbox_inches='tight')\n",
    "plt.close(fig)"
   ]
  },
  {
   "cell_type": "code",
   "execution_count": 161,
   "metadata": {
    "collapsed": false
   },
   "outputs": [
    {
     "name": "stdout",
     "output_type": "stream",
     "text": [
      "[]\n",
      "[0.79995310331120217]\n",
      "[0.79995310331120217, 0.75861797377496465]\n",
      "[0.79995310331120217, 0.75861797377496465, 0.7922186275919455]\n",
      "[0.79995310331120217, 0.75861797377496465, 0.7922186275919455, 0.79652005322275876]\n"
     ]
    }
   ],
   "source": [
    "##### Get average auc\n",
    "y,z = [],[]\n",
    "for key, item in auc_dict.iteritems():\n",
    "    a = [x for x in item if x != 0]\n",
    "    print y\n",
    "    y.append(np.mean(a))\n",
    "    z.append(np.std(a))\n",
    "\n",
    "\n",
    "plt.ioff()\n",
    "fig = plt.figure()\n",
    "# Create an axes instance\n",
    "ax = fig.add_subplot(111)\n",
    "x = [1,2,3,4,5]\n",
    "ax.plot(x,y,'ko--')\n",
    "#ax.set_xlim([0,150+11])\n",
    "#ax.set_ylim([0.70,0.85])\n",
    "\n",
    "ax.set_xlabel(\"Window size\")\n",
    "ax.set_ylabel(\"mean AUC\")\n",
    "plt.grid()\n",
    "ax.set_xlim([0,6])\n",
    "plt.xticks([1,2,3,4,5], [1,4,6,8,12])\n",
    "filename = \"AUC_list_average.pdf\"\n",
    "plt.savefig('../Figures/0715-19/'+ filename)\n",
    "plt.close(fig)\n",
    "\n",
    "plt.ioff()\n",
    "fig = plt.figure()\n",
    "# Create an axes instance\n",
    "ax = fig.add_subplot(111)\n",
    "x = [1,2,3,4,5]\n",
    "ax.plot(x,z,'ko--')\n",
    "#ax.set_xlim([0,150+11])\n",
    "#ax.set_ylim([0.70,0.85])\n",
    "\n",
    "ax.set_xlabel(\"Window size\")\n",
    "ax.set_ylabel(\"mean AUC\")\n",
    "plt.grid()\n",
    "ax.set_xlim([0,6])\n",
    "plt.xticks([1,2,3,4,5], [1,4,6,8,12])\n",
    "filename = \"AUC_list_std.pdf\"\n",
    "plt.savefig('../Figures/0715-19/'+ filename)\n",
    "plt.close(fig)\n"
   ]
  },
  {
   "cell_type": "code",
   "execution_count": 194,
   "metadata": {
    "collapsed": false
   },
   "outputs": [
    {
     "name": "stdout",
     "output_type": "stream",
     "text": [
      "2015071518\n",
      "2015071520\n",
      "2015071522\n",
      "2015071618\n",
      "2015071620\n",
      "2015071622\n",
      "2015071718\n",
      "2015071720\n",
      "2015071722\n",
      "2015071818\n",
      "2015071820\n",
      "2015071822\n",
      "2015071918\n",
      "2015071920\n",
      "2015071922\n",
      "2015072018\n",
      "2015072020\n",
      "2015072022\n",
      "2015071520\n",
      "2015071620\n",
      "2015071720\n",
      "2015071820\n",
      "2015071920\n",
      "2015072020\n",
      "2015071518\n",
      "2015071618\n",
      "2015071718\n",
      "2015071818\n",
      "2015071918\n",
      "2015072018\n"
     ]
    }
   ],
   "source": [
    "####### Fix the training window, changing the test window\n",
    "\n",
    "###### change window size \n",
    "auc_dict_change_test = {}\n",
    "def get_sliding_window_index(df,day_start,window_size):\n",
    "    training_window = []\n",
    "    test_window = []\n",
    "    for j in range(0,6):\n",
    "        if j == 0:\n",
    "            sliding_window_start = day_start\n",
    "        else:\n",
    "            sliding_window_start = day_start + 100 * j\n",
    "        next_day = sliding_window_start + 100\n",
    "        \n",
    "        \n",
    "        if ((24-(6+window_size)) % window_size) != 0:\n",
    "            breaking_point = window_size*((24-(6+window_size))/window_size + 1)\n",
    "        \n",
    "        \n",
    "        else:\n",
    "            breaking_point = window_size*((24-(6+window_size))/window_size)\n",
    "            \n",
    "            \n",
    "            \n",
    "        \n",
    "        for i in range(0,breaking_point,window_size):\n",
    "            start = df.loc[df['date_added_full'] == sliding_window_start].index.tolist()[0]\n",
    "            stop = df.loc[df['date_added_full'] == sliding_window_start + 6].index.tolist()[0]\n",
    "            training_window.append((start,stop))\n",
    "            \n",
    "            '''\n",
    "            if (start,stop) not in test_every_hour:\n",
    "                test_every_hour[(start,stop)] = []\n",
    "\n",
    "            '''\n",
    "           \n",
    "            \n",
    "            start_test = stop\n",
    "            stop_test = df.loc[df['date_added_full'] == sliding_window_start + 6 + window_size].index.tolist()[0]\n",
    "            test_window.append((start_test,stop_test))\n",
    "            \n",
    "            '''\n",
    "            for j in range(1,window_size+1):\n",
    "                if j == 1:\n",
    "                    start_hour = start_test\n",
    "                else:\n",
    "                    start_hour = stop_hour\n",
    "                stop_hour = df.loc[df['date_added_full'] == sliding_window_start + 6 + j].index.tolist()[0]\n",
    "                test_every_hour[(start,stop)].append((start_hour,stop_hour))\n",
    "\n",
    "            '''\n",
    "            \n",
    "           \n",
    "            sliding_window_start +=  window_size\n",
    "            \n",
    "        for i in range(breaking_point,24,window_size):\n",
    "            if i == breaking_point:\n",
    "                start = df.loc[df['date_added_full'] == sliding_window_start].index.tolist()[0]\n",
    "                stop =  df.loc[df['date_added_full'] == sliding_window_start + 6].index.tolist()[0]\n",
    "                training_window.append((start, stop))\n",
    "                \n",
    "            \n",
    "                start_test = stop\n",
    "                stop_test = df.loc[df['date_added_full'] == next_day + (window_size-(24-breaking_point-6))].index.tolist()[0]\n",
    "                test_window.append((start_test,stop_test))\n",
    "                \n",
    "                \n",
    "                \n",
    "                \n",
    "                \n",
    "                \n",
    "                \n",
    "            else:\n",
    "                print sliding_window_start\n",
    "                start = df.loc[df['date_added_full'] == sliding_window_start].index.tolist()[0]\n",
    "                stop =  df.loc[df['date_added_full'] == next_day + (6-(24-i))].index.tolist()[0]\n",
    "                training_window.append((start, stop))\n",
    "                \n",
    "        \n",
    "                start_test = stop\n",
    "                stop_test = df.loc[df['date_added_full'] == next_day + (6-(24-i)) + window_size].index.tolist()[0]\n",
    "                test_window.append((start_test,stop_test))\n",
    "                \n",
    "          \n",
    "                \n",
    "            \n",
    "            sliding_window_start += window_size\n",
    "        \n",
    "    return training_window,test_window\n",
    "    \n",
    "\n",
    "window_size = [2,4,6,8,12]    \n",
    "for wsize in window_size:\n",
    "    training_window, test_window = get_sliding_window_index(merged_df,day_start,wsize)\n",
    "\n",
    "    \n",
    "    AUC_list = []\n",
    "    for item in zip(training_window,test_window):\n",
    "    \n",
    "        mtx_train = encoded_features[item[0][0]:item[0][1],]\n",
    "        mtx_test = encoded_features[item[1][0]:item[1][1],]\n",
    "        label_train = merged_df[['purchase']].values[item[0][0]:item[0][1]]\n",
    "        label_test = merged_df[['purchase']].values[item[1][0]:item[1][1]]\n",
    "        pCVR, predict_CVR, auc_score, lg_rmse = LR_predict(mtx_train,label_train,mtx_test,label_test)\n",
    "        AUC_list.append(auc_score)\n",
    "    \n",
    "    \n",
    "\n",
    "    #plt.ioff()\n",
    "    #fig = plt.figure()\n",
    "    # Create an axes instance\n",
    "    #ax = fig.add_subplot(111)\n",
    "    #ax.plot(AUC_list,color='k')\n",
    "    #ax.set_xlim([0,150])\n",
    "    #plt.xlabel(\"hours\")\n",
    "    #plt.ylabel(\"AUC\")\n",
    "    #plt.grid()\n",
    "    #filename = \"AUC_list_\" + str(wsize) + \".pdf\"\n",
    "    #plt.savefig('../Figures/0715-19/'+ filename)\n",
    "    #plt.close(fig)\n",
    "    \n",
    "    if wsize not in auc_dict_change_test:\n",
    "        auc_dict_change_test[wsize] = AUC_list\n"
   ]
  },
  {
   "cell_type": "code",
   "execution_count": 195,
   "metadata": {
    "collapsed": false
   },
   "outputs": [],
   "source": [
    "for key, item in auc_dict_change_test.iteritems():\n",
    "    item[0:0] = [0] * 6\n",
    "    plt.ioff()\n",
    "    fig = plt.figure()\n",
    "    # Create an axes instance\n",
    "    ax = fig.add_subplot(111)\n",
    "    ax.plot(item,color='k')\n",
    "    ax.set_xlim([0,160/key])\n",
    "    ax.set_ylim([0.74,0.85])\n",
    "    ax.set_xlabel(\"hours\")\n",
    "    ax.set_ylabel(\"AUC_value\")\n",
    "    plt.grid()\n",
    "    filename = \"change_test_window_AUC_list_\" + str(key) + \".pdf\"\n",
    "    plt.savefig('../Figures/0715-19/'+ filename)\n",
    "    plt.close(fig)\n",
    "    "
   ]
  },
  {
   "cell_type": "code",
   "execution_count": 215,
   "metadata": {
    "collapsed": true
   },
   "outputs": [],
   "source": [
    "y=[]\n",
    "for key in sorted(auc_dict_change_test.iterkeys()):\n",
    "    \n",
    "    a = [x for x in auc_dict_change_test[key] if x != 0]\n",
    "    y.append(a)\n",
    "    \n",
    "plt.ioff()\n",
    "fig = plt.figure()\n",
    "# Create an axes instance\n",
    "ax = fig.add_subplot(111)\n",
    "bp = ax.boxplot(y)\n",
    "plt.setp(bp['boxes'], color='k')\n",
    "plt.setp(bp['whiskers'], color='k')\n",
    "\n",
    "ax.set_ylim([0.74,0.85])\n",
    "plt.xticks([1,2,3,4,5], [str(float(2)/float(6)*100)[:-8]+\"%\",str(float(4)/float(6)*100)[:-8]+\"%\",str(float(6)/float(6)*100)[:-2]+\"%\"\n",
    "                         ,str(float(8)/float(6)*100)[:-8]+\"%\",str(float(12)/float(6)*100)[:-2]+\"%\"])\n",
    "ax.set_xlabel(\"The ratio of test window size over training window size\")\n",
    "ax.set_ylabel(\"AUC\")\n",
    "plt.savefig('../Figures/0715-19/sliding_window_boxplot_testset.pdf',bbox_inches='tight')\n",
    "plt.close(fig)"
   ]
  },
  {
   "cell_type": "code",
   "execution_count": 199,
   "metadata": {
    "collapsed": false
   },
   "outputs": [
    {
     "name": "stdout",
     "output_type": "stream",
     "text": [
      "[0, 0, 0, 0, 0, 0, 0.78676106801665535, 0.78689153848702353, 0.78737794990532639, 0.79002014520057695, 0.78660696438829369, 0.78467999196313487, 0.78625161277867117, 0.77202883035551595, 0.78133983224582981, 0.78503820097855848, 0.80033631121434679, 0.8007727607157189]\n"
     ]
    }
   ],
   "source": [
    "print auc_dict_change_test[12]"
   ]
  },
  {
   "cell_type": "code",
   "execution_count": 216,
   "metadata": {
    "collapsed": false
   },
   "outputs": [
    {
     "name": "stdout",
     "output_type": "stream",
     "text": [
      "5\n"
     ]
    }
   ],
   "source": [
    "print len(z)"
   ]
  }
 ],
 "metadata": {
  "kernelspec": {
   "display_name": "Python 2",
   "language": "python",
   "name": "python2"
  },
  "language_info": {
   "codemirror_mode": {
    "name": "ipython",
    "version": 2
   },
   "file_extension": ".py",
   "mimetype": "text/x-python",
   "name": "python",
   "nbconvert_exporter": "python",
   "pygments_lexer": "ipython2",
   "version": "2.7.10"
  }
 },
 "nbformat": 4,
 "nbformat_minor": 0
}
