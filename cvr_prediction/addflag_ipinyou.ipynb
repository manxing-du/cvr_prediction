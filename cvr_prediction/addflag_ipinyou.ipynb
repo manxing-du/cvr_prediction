{
 "cells": [
  {
   "cell_type": "code",
   "execution_count": 25,
   "metadata": {
    "collapsed": false
   },
   "outputs": [],
   "source": [
    "import pandas as pd\n",
    "\n",
    "df = pd.read_csv(\"../../../iPinyou/make-ipinyou-data-master/all/test.log.txt\",header=0,sep='\\t',index_col=False)"
   ]
  },
  {
   "cell_type": "code",
   "execution_count": 26,
   "metadata": {
    "collapsed": false
   },
   "outputs": [
    {
     "name": "stdout",
     "output_type": "stream",
     "text": [
      "   click  weekday  hour  advertiser\n",
      "0      0        6     0        3358\n",
      "1      0        6     0        3427\n",
      "2      0        6     0        3427\n",
      "3      0        6     0        3386\n",
      "4      0        6     0        3358\n"
     ]
    }
   ],
   "source": [
    "print df[[\"click\",\"weekday\",\"hour\",\"advertiser\"]].head()"
   ]
  },
  {
   "cell_type": "code",
   "execution_count": 27,
   "metadata": {
    "collapsed": false
   },
   "outputs": [
    {
     "name": "stdout",
     "output_type": "stream",
     "text": [
      "   advertiser  weekday  hour  click  count\n",
      "0        1458        0     0      0   8499\n",
      "1        1458        0     0      1     11\n",
      "2        1458        0     1      0   5230\n",
      "3        1458        0     1      1      1\n",
      "4        1458        0     2      0   1422\n"
     ]
    }
   ],
   "source": [
    "###############Campaign cvr\n",
    "import matplotlib.pyplot as plt\n",
    "import matplotlib.cm as cm\n",
    "import numpy as np\n",
    "\n",
    "\n",
    "df_sub_cvr =  df[[\"click\",\"weekday\",\"hour\",\"advertiser\"]]\n",
    "df_add_features = pd.DataFrame(df_sub_cvr.groupby(['advertiser','weekday','hour','click']).size().reset_index(name='count'))\n",
    "print df_add_features.head()"
   ]
  },
  {
   "cell_type": "code",
   "execution_count": 28,
   "metadata": {
    "collapsed": true
   },
   "outputs": [],
   "source": [
    "#i = 0\n",
    "for name, group in df_add_features.groupby(['advertiser','weekday','hour']): \n",
    "    #i += 1\n",
    "    #print name[1]\n",
    "\n",
    "    counts = group['count'].values\n",
    "    #print group\n",
    "    #print group['purchase'].values\n",
    "    \n",
    "    if ((len(counts) == 1) & (group['click'].values[0] == 0)):\n",
    "        cvr_h = 0\n",
    "    elif ((len(counts) == 1) & (group['click'].values[0] == 1)):\n",
    "        cvr_h = 1\n",
    "    else:\n",
    "        cvr_h = float(counts[1])/float(counts.sum())\n",
    "    \n",
    "    df.ix[(df.advertiser==name[0]) & (df.weekday == name[1])\n",
    "              & (df.hour == name[2]), 'cvr_h'] = cvr_h\n",
    "\n",
    "    #if i == 10:\n",
    "    #    break"
   ]
  },
  {
   "cell_type": "code",
   "execution_count": 29,
   "metadata": {
    "collapsed": false
   },
   "outputs": [
    {
     "name": "stdout",
     "output_type": "stream",
     "text": [
      "4100716\n",
      "556\n",
      "       advertiser  weekday  hour     cvr_h\n",
      "0            3358        6     0  0.001024\n",
      "1            3427        6     0  0.000736\n",
      "3            3386        6     0  0.000458\n",
      "27           1458        6     0  0.000527\n",
      "91678        1458        6     1  0.002396\n",
      "                   advertiser  weekday  hour     cvr_h  diff_cvr_1\n",
      "advertiser                                                        \n",
      "3476       595664        3476        6    19  0.000917           1\n",
      "           641556        3476        6    20  0.000737          -1\n",
      "           687205        3476        6    21  0.000384          -1\n",
      "           729103        3476        6    22  0.000348          -1\n",
      "           781812        3476        6    23  0.000468          -1\n"
     ]
    }
   ],
   "source": [
    "# compare the previous two hours (t-1, t-2) cvr\n",
    "from itertools import izip\n",
    "from math import log\n",
    "import sys\n",
    "print df.shape[0]\n",
    "\n",
    "cvr_diff_df = df.drop_duplicates(['advertiser','weekday','hour'])[['advertiser','weekday','hour','cvr_h']]\n",
    "print cvr_diff_df.shape[0]\n",
    "print cvr_diff_df.head()\n",
    "\n",
    "  \n",
    "epsilon = np.finfo(float).eps\n",
    "\n",
    "def myfunc(group):\n",
    "    group = group.sort_values(['weekday', 'hour'], ascending=[True, True])\n",
    "    for i in range(1,2):\n",
    "        diff_cvr = []\n",
    "        diff_cvr.extend(np.zeros(i+1,dtype=np.int))\n",
    "        cvr_col = group['cvr_h'].values\n",
    "             \n",
    "        for x, y in zip(cvr_col,cvr_col[1:]):\n",
    "            if y - x > 0.0:\n",
    "                diff_cvr.append(1)\n",
    "            elif y - x == 0.0:\n",
    "                diff_cvr.append(0)\n",
    "            else: \n",
    "                diff_cvr.append(-1)\n",
    "                \n",
    "        col_name = 'diff_cvr_' + str(i)\n",
    "        group[col_name] = pd.Series(diff_cvr[:-i], index=group.index)\n",
    "        #print diff_cvr\n",
    "        #group['cvr_ratio'] = pd.Series(ratio_cvr[:-1], index=group.index)\n",
    "    #print group\n",
    "    return group\n",
    "\n",
    "\n",
    "cvr_diff_result = cvr_diff_df.groupby(['advertiser']).apply(myfunc)\n",
    "print cvr_diff_result.tail()\n",
    "#print cvr_diff_result[cvr_diff_result['cvr_ratio'] != 1].head()\n",
    "#print cvr_diff_result[cvr_diff_result['idcampaign'] == 90]"
   ]
  },
  {
   "cell_type": "code",
   "execution_count": 30,
   "metadata": {
    "collapsed": false
   },
   "outputs": [
    {
     "name": "stdout",
     "output_type": "stream",
     "text": [
      "         click  weekday  hour                             bidid  \\\n",
      "4100711      0        0    16   b74bfc1f007548e5161364195364fd0   \n",
      "4100712      0        0    11   11544056b9ba1dac7f1a8546492a9a7   \n",
      "4100713      0        0    11  f7e3b0a2187f9498c3b6d8c347599b91   \n",
      "4100714      0        0    12  cbde18f2f6da699627cdc3a763270ef2   \n",
      "4100715      0        0    17  e04aeab44180041b55325e9965c5c502   \n",
      "\n",
      "                 timestamp  logtype                ipinyouid       useragent  \\\n",
      "4100711  20131028164004071        1             DAJHEK8eff73  windows_chrome   \n",
      "4100712  20131028114100659        1             DAJJv60zgdbX  windows_chrome   \n",
      "4100713  20131028114406381        1             DALA7Q6Vegpi      windows_ie   \n",
      "4100714  20131028124001962        1             DALAWCCsgwfR      windows_ie   \n",
      "4100715  20131028172306685        1  20111215121025025818971      windows_ie   \n",
      "\n",
      "                    IP  region    ...      creative bidprice payprice keypage  \\\n",
      "4100711    113.72.95.*     216    ...         12632      294      100    null   \n",
      "4100712  222.161.199.*      55    ...         12616      277       10    null   \n",
      "4100713   61.235.105.*     216    ...         12615      294       20    null   \n",
      "4100714  220.174.234.*     253    ...         12623      277      184    null   \n",
      "4100715  119.176.167.*     146    ...         12633      294      209    null   \n",
      "\n",
      "        advertiser                                            usertag  nclick  \\\n",
      "4100711       2261                            10083,10102,10024,10063       0   \n",
      "4100712       2261                                               null       0   \n",
      "4100713       2261                10117,10083,13866,10006,10127,13403       0   \n",
      "4100714       2261                                               null       0   \n",
      "4100715       2261  10059,10083,10006,10110,13776,10126,13403,1006...       0   \n",
      "\n",
      "         nconversation     cvr_h diff_cvr_1  \n",
      "4100711              0  0.000305         -1  \n",
      "4100712              0  0.000089          1  \n",
      "4100713              0  0.000089          1  \n",
      "4100714              0  0.000291         -1  \n",
      "4100715              0  0.000275         -1  \n",
      "\n",
      "[5 rows x 31 columns]\n",
      "4100716\n"
     ]
    }
   ],
   "source": [
    "df_merge = pd.merge(df,cvr_diff_result[['advertiser','weekday','hour','diff_cvr_1']], \n",
    "                    how='left', on=['advertiser','weekday','hour'])\n",
    "print df_merge.tail()\n",
    "print df_merge.shape[0]"
   ]
  },
  {
   "cell_type": "code",
   "execution_count": 31,
   "metadata": {
    "collapsed": true
   },
   "outputs": [],
   "source": [
    "df_merge.to_csv('../../../iPinyou/ipinyou-data-addflag/ipinyou_testall.flag.csv',index=False, sep=\"\\t\")"
   ]
  }
 ],
 "metadata": {
  "kernelspec": {
   "display_name": "Python 2",
   "language": "python",
   "name": "python2"
  },
  "language_info": {
   "codemirror_mode": {
    "name": "ipython",
    "version": 2
   },
   "file_extension": ".py",
   "mimetype": "text/x-python",
   "name": "python",
   "nbconvert_exporter": "python",
   "pygments_lexer": "ipython2",
   "version": "2.7.10"
  }
 },
 "nbformat": 4,
 "nbformat_minor": 0
}
