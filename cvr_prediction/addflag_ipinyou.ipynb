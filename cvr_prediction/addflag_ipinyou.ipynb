{
 "cells": [
  {
   "cell_type": "code",
   "execution_count": 107,
   "metadata": {
    "collapsed": false
   },
   "outputs": [],
   "source": [
    "import pandas as pd\n",
    "\n",
    "df = pd.read_csv(\"../../../iPinyou/make-ipinyou-data-master/3476/train.log.txt\",header=0,sep='\\t',index_col=False)"
   ]
  },
  {
   "cell_type": "code",
   "execution_count": 108,
   "metadata": {
    "collapsed": false
   },
   "outputs": [
    {
     "name": "stdout",
     "output_type": "stream",
     "text": [
      "(1970360, 27)\n"
     ]
    }
   ],
   "source": [
    "print df.shape"
   ]
  },
  {
   "cell_type": "code",
   "execution_count": 109,
   "metadata": {
    "collapsed": false
   },
   "outputs": [
    {
     "name": "stdout",
     "output_type": "stream",
     "text": [
      "   click  weekday  hour  advertiser\n",
      "0      0        6     0        3476\n",
      "1      0        6     0        3476\n",
      "2      0        6     0        3476\n",
      "3      0        6     0        3476\n",
      "4      0        6     0        3476\n"
     ]
    }
   ],
   "source": [
    "print df[[\"click\",\"weekday\",\"hour\",\"advertiser\"]].head()"
   ]
  },
  {
   "cell_type": "code",
   "execution_count": 110,
   "metadata": {
    "collapsed": false
   },
   "outputs": [
    {
     "name": "stdout",
     "output_type": "stream",
     "text": [
      "   advertiser  weekday  hour  click  count\n",
      "0        3476        0     0      0  14134\n",
      "1        3476        0     0      1      6\n",
      "2        3476        0     1      0   6301\n",
      "3        3476        0     1      1      3\n",
      "4        3476        0     2      0   5261\n"
     ]
    }
   ],
   "source": [
    "###############Campaign cvr\n",
    "import matplotlib.pyplot as plt\n",
    "import matplotlib.cm as cm\n",
    "import numpy as np\n",
    "\n",
    "\n",
    "df_sub_cvr =  df[[\"click\",\"weekday\",\"hour\",\"advertiser\"]]\n",
    "df_add_features = pd.DataFrame(df_sub_cvr.groupby(['advertiser','weekday','hour','click']).size().reset_index(name='count'))\n",
    "print df_add_features.head()"
   ]
  },
  {
   "cell_type": "code",
   "execution_count": 111,
   "metadata": {
    "collapsed": true
   },
   "outputs": [],
   "source": [
    "#i = 0\n",
    "for name, group in df_add_features.groupby(['advertiser','weekday','hour']): \n",
    "    #i += 1\n",
    "    #print name[1]\n",
    "\n",
    "    counts = group['count'].values\n",
    "    #print group\n",
    "    #print group['purchase'].values\n",
    "    \n",
    "    if ((len(counts) == 1) & (group['click'].values[0] == 0)):\n",
    "        cvr_h = 0\n",
    "    elif ((len(counts) == 1) & (group['click'].values[0] == 1)):\n",
    "        cvr_h = 1\n",
    "    else:\n",
    "        cvr_h = float(counts[1])/float(counts.sum())\n",
    "    \n",
    "    df.ix[(df.advertiser==name[0]) & (df.weekday == name[1])\n",
    "              & (df.hour == name[2]), 'cvr_h'] = cvr_h\n",
    "\n",
    "    #if i == 10:\n",
    "    #    break"
   ]
  },
  {
   "cell_type": "code",
   "execution_count": 112,
   "metadata": {
    "collapsed": false
   },
   "outputs": [
    {
     "name": "stdout",
     "output_type": "stream",
     "text": [
      "1970360\n",
      "142\n",
      "       advertiser  weekday  hour     cvr_h\n",
      "0            3476        6     0  0.000588\n",
      "13613        3476        6     1  0.000467\n",
      "22186        3476        6     2  0.000322\n",
      "28398        3476        6     3  0.000488\n",
      "34549        3476        6     4  0.000000\n",
      "                   advertiser  weekday  hour     cvr_h  diff_cvr_1\n",
      "advertiser                                                        \n",
      "3476       262957        3476        6    19  0.000772           1\n",
      "           283673        3476        6    20  0.000757           1\n",
      "           304814        3476        6    21  0.000468          -1\n",
      "           326188        3476        6    22  0.000592          -1\n",
      "           349836        3476        6    23  0.000219           1\n"
     ]
    }
   ],
   "source": [
    "# compare the previous two hours (t-1, t-2) cvr\n",
    "from itertools import izip\n",
    "from math import log\n",
    "import sys\n",
    "print df.shape[0]\n",
    "\n",
    "cvr_diff_df = df.drop_duplicates(['advertiser','weekday','hour'])[['advertiser','weekday','hour','cvr_h']]\n",
    "print cvr_diff_df.shape[0]\n",
    "print cvr_diff_df.head()\n",
    "\n",
    "  \n",
    "epsilon = np.finfo(float).eps\n",
    "\n",
    "def myfunc(group):\n",
    "    group = group.sort_values(['weekday', 'hour'], ascending=[True, True])\n",
    "    for i in range(1,2):\n",
    "        diff_cvr = []\n",
    "        diff_cvr.extend(np.zeros(i+1,dtype=np.int))\n",
    "        cvr_col = group['cvr_h'].values\n",
    "             \n",
    "        for x, y in zip(cvr_col,cvr_col[1:]):\n",
    "            if y - x > 0.0:\n",
    "                diff_cvr.append(1)\n",
    "            elif y - x == 0.0:\n",
    "                diff_cvr.append(0)\n",
    "            else: \n",
    "                diff_cvr.append(-1)\n",
    "                \n",
    "        col_name = 'diff_cvr_' + str(i)\n",
    "        group[col_name] = pd.Series(diff_cvr[:-i], index=group.index)\n",
    "        #print diff_cvr\n",
    "        #group['cvr_ratio'] = pd.Series(ratio_cvr[:-1], index=group.index)\n",
    "    #print group\n",
    "    return group\n",
    "\n",
    "\n",
    "cvr_diff_result = cvr_diff_df.groupby(['advertiser']).apply(myfunc)\n",
    "print cvr_diff_result.tail()\n",
    "#print cvr_diff_result[cvr_diff_result['cvr_ratio'] != 1].head()\n",
    "#print cvr_diff_result[cvr_diff_result['idcampaign'] == 90]"
   ]
  },
  {
   "cell_type": "code",
   "execution_count": 113,
   "metadata": {
    "collapsed": false
   },
   "outputs": [
    {
     "name": "stdout",
     "output_type": "stream",
     "text": [
      "         click  weekday  hour                             bidid  \\\n",
      "1970355      0        5    10  da46db053c30d4a2b25626dbeb3cef3d   \n",
      "1970356      0        5    10  7934703736c4d3bb957419581ed0b0a4   \n",
      "1970357      0        5    10  d9216cb947b77ad6ad8a5bc75d0075e8   \n",
      "1970358      0        5    10  cf88d17dc911ad1841094ce8348eed0a   \n",
      "1970359      0        5    10  8f7abf2b1ea50caef7e0969350f7d375   \n",
      "\n",
      "                 timestamp  logtype        ipinyouid       useragent  \\\n",
      "1970355  20130612103253642        1  VhdVLidpDq1ZaVb  windows_chrome   \n",
      "1970356  20130612103255375        1  Vh5zC35lDNj4Xhc      windows_ie   \n",
      "1970357  20130612103302190        1  VhkrOvlIL2dvDOE      windows_ie   \n",
      "1970358  20130612103318102        1  Vh1HOwmPD9CsQQ2      windows_ie   \n",
      "1970359  20130612103318168        1  Vh1HOwmPD9CsQQ2      windows_ie   \n",
      "\n",
      "                   IP  region     ...      slotformat  slotprice  \\\n",
      "1970355  112.231.25.*     146     ...               1          0   \n",
      "1970356   222.40.31.*     164     ...               1          0   \n",
      "1970357  58.242.244.*     106     ...               1          0   \n",
      "1970358  114.220.41.*      80     ...               1          0   \n",
      "1970359  114.220.41.*      80     ...               1          0   \n",
      "\n",
      "                                 creative bidprice payprice  \\\n",
      "1970355  e1af08818a6cd6bbba118bb54a651961      238      136   \n",
      "1970356  c938195f9e404b4f38c7e71bf50263e5      238       85   \n",
      "1970357  e1af08818a6cd6bbba118bb54a651961      238      156   \n",
      "1970358  e1af08818a6cd6bbba118bb54a651961      238       41   \n",
      "1970359  e1af08818a6cd6bbba118bb54a651961      238       30   \n",
      "\n",
      "                                  keypage  advertiser  \\\n",
      "1970355  a5d0bde104fea52ea466c77b37948424        3476   \n",
      "1970356  a3becb967c015e9acb5e72f22b100ef8        3476   \n",
      "1970357  a5d0bde104fea52ea466c77b37948424        3476   \n",
      "1970358  a5d0bde104fea52ea466c77b37948424        3476   \n",
      "1970359  a5d0bde104fea52ea466c77b37948424        3476   \n",
      "\n",
      "                                                   usertag     cvr_h  \\\n",
      "1970355                      10006,10083,10063,13403,10110  0.000252   \n",
      "1970356                                              10063  0.000252   \n",
      "1970357          10024,10083,10059,10048,10006,10063,10110  0.000252   \n",
      "1970358  10006,10075,13042,13800,14273,13776,10063,1003...  0.000252   \n",
      "1970359  10006,10075,13042,13800,14273,13776,10063,1003...  0.000252   \n",
      "\n",
      "         diff_cvr_1  \n",
      "1970355           1  \n",
      "1970356           1  \n",
      "1970357           1  \n",
      "1970358           1  \n",
      "1970359           1  \n",
      "\n",
      "[5 rows x 29 columns]\n",
      "1970360\n"
     ]
    }
   ],
   "source": [
    "df_merge = pd.merge(df,cvr_diff_result[['advertiser','weekday','hour','diff_cvr_1']], \n",
    "                    how='left', on=['advertiser','weekday','hour'])\n",
    "print df_merge.tail()\n",
    "print df_merge.shape[0]"
   ]
  },
  {
   "cell_type": "code",
   "execution_count": 114,
   "metadata": {
    "collapsed": true
   },
   "outputs": [],
   "source": [
    "df_merge.to_csv('../../../iPinyou/ipinyou-data-addflag/3476.train.flag.txt',index=False, sep=\"\\t\")"
   ]
  }
 ],
 "metadata": {
  "kernelspec": {
   "display_name": "Python 2",
   "language": "python",
   "name": "python2"
  },
  "language_info": {
   "codemirror_mode": {
    "name": "ipython",
    "version": 2
   },
   "file_extension": ".py",
   "mimetype": "text/x-python",
   "name": "python",
   "nbconvert_exporter": "python",
   "pygments_lexer": "ipython2",
   "version": "2.7.10"
  }
 },
 "nbformat": 4,
 "nbformat_minor": 0
}
