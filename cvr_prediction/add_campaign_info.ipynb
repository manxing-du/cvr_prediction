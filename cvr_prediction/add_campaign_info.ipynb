{
 "cells": [
  {
   "cell_type": "code",
   "execution_count": 1,
   "metadata": {
    "collapsed": false
   },
   "outputs": [],
   "source": [
    "import pandas as pd\n",
    "\n",
    "#df = pd.read_csv(\"../../../iPinyou/make-ipinyou-data-master/all/test.log.txt\",header=0,sep='\\t',index_col=False)\n",
    "campaign_info = pd.read_csv(\"../../GitRepo/data/campaign/cds_singletransactions_campaigns_segments.tsv\", \n",
    "                            header=0, sep='\\t',index_col=0, names=['id','idcampaign','campaign_type','id_partner',\n",
    "                                                                  'id_application','id_vertical_type', 'id_country', \n",
    "                                                                  'id_operator','id_os','id_browser','exclude', 'id_group'])\n",
    "\n",
    "df = pd.read_csv(\"../../GitRepo/format_data/campaign_testmode_0715_withprice_correct.txt\", header=0, sep=',',index_col=0)\n",
    "\n"
   ]
  },
  {
   "cell_type": "code",
   "execution_count": 6,
   "metadata": {
    "collapsed": false
   },
   "outputs": [
    {
     "name": "stdout",
     "output_type": "stream",
     "text": [
      "   hour  weekday  country_code  idoperator  iddevice  idhardware  idbrowser  \\\n",
      "0   0.0      2.0           161          18         8           2         32   \n",
      "1  17.0      1.0           152           0     15375           2          3   \n",
      "2  23.0      1.0           159         335         1           1          0   \n",
      "3  17.0      1.0           152           0      4841           2          7   \n",
      "4   0.0      2.0            22           0         6           3         32   \n",
      "\n",
      "   idos  idcampaign  idcat  uniform_price  purchase  \n",
      "0     2        4755    2.0            0.0         0  \n",
      "1     1        5019    2.0            0.0         0  \n",
      "2     0        3995    2.0            0.0         0  \n",
      "3     1        4897    2.0            0.0         0  \n",
      "4     2        4044    2.0            0.0         0  \n",
      "    id_campaign  campaign_type  id_partner  id_application  id_vertical_type  \\\n",
      "id                                                                             \n",
      "2             2              1           1               0                 0   \n",
      "3             2              1           1               0                 0   \n",
      "4             2              1           1               0                 0   \n",
      "5             2              1           1               0                 0   \n",
      "6             2              1           1               0                 0   \n",
      "\n",
      "    id_country id_operator id_os id_browser  exclude  id_group  \n",
      "id                                                              \n",
      "2          108           0   all        all        0         2  \n",
      "3          108           1   all        all        0         2  \n",
      "4          108           2   all        all        0         2  \n",
      "5          108           4   all        all        0         2  \n",
      "6          108           5   all        all        0         2  \n",
      "(169298, 11)\n"
     ]
    }
   ],
   "source": [
    "print df.head()\n",
    "print campaign_info.head()\n",
    "print campaign_info.shape"
   ]
  },
  {
   "cell_type": "code",
   "execution_count": 11,
   "metadata": {
    "collapsed": false
   },
   "outputs": [
    {
     "name": "stdout",
     "output_type": "stream",
     "text": [
      "        idcampaign  campaign_type  id_partner  id_application  \\\n",
      "id                                                              \n",
      "291173        4044              1          30               0   \n",
      "291174        4044              1          30               0   \n",
      "291175        4044              1          30               0   \n",
      "291176        4044              1          30               0   \n",
      "291177        4044              1          30               0   \n",
      "291178        4044              1          30               0   \n",
      "291179        4044              1          30               0   \n",
      "291180        4044              1          30               0   \n",
      "291181        4044              1          30               0   \n",
      "291182        4044              1          30               0   \n",
      "291183        4044              1          30               0   \n",
      "291184        4044              1          30               0   \n",
      "291185        4044              1          30               0   \n",
      "291186        4044              1          30               0   \n",
      "291187        4044              1          30               0   \n",
      "291188        4044              1          30               0   \n",
      "291189        4044              1          30               0   \n",
      "291190        4044              1          30               0   \n",
      "291191        4044              1          30               0   \n",
      "291192        4044              1          30               0   \n",
      "291193        4044              1          30               0   \n",
      "291194        4044              1          30               0   \n",
      "291195        4044              1          30               0   \n",
      "291196        4044              1          30               0   \n",
      "291197        4044              1          30               0   \n",
      "291200        4044              1          30               0   \n",
      "291201        4044              1          30               0   \n",
      "291202        4044              1          30               0   \n",
      "291203        4044              1          30               0   \n",
      "291205        4044              1          30               0   \n",
      "...            ...            ...         ...             ...   \n",
      "835896        4044              0          30               0   \n",
      "835897        4044              0          30               0   \n",
      "835898        4044              0          30               0   \n",
      "835899        4044              0          30               0   \n",
      "835900        4044              0          30               0   \n",
      "835901        4044              0          30               0   \n",
      "835902        4044              0          30               0   \n",
      "835903        4044              0          30               0   \n",
      "835904        4044              0          30               0   \n",
      "835905        4044              0          30               0   \n",
      "835906        4044              0          30               0   \n",
      "835907        4044              0          30               0   \n",
      "835908        4044              0          30               0   \n",
      "835909        4044              0          30               0   \n",
      "835910        4044              0          30               0   \n",
      "835911        4044              0          30               0   \n",
      "835912        4044              0          30               0   \n",
      "835913        4044              0          30               0   \n",
      "835914        4044              0          30               0   \n",
      "835915        4044              0          30               0   \n",
      "835916        4044              0          30               0   \n",
      "835917        4044              0          30               0   \n",
      "835918        4044              0          30               0   \n",
      "835919        4044              0          30               0   \n",
      "835920        4044              0          30               0   \n",
      "835921        4044              0          30               0   \n",
      "848561        4044              0          30               0   \n",
      "848562        4044              0          30               0   \n",
      "848643        4044              0          30               0   \n",
      "848647        4044              0          30               0   \n",
      "\n",
      "        id_vertical_type  id_country id_operator id_os id_browser  exclude  \\\n",
      "id                                                                           \n",
      "291173                 0         103         all     1        all        1   \n",
      "291174                 0         103         all     2        all        1   \n",
      "291175                 0         103         all     3        all        1   \n",
      "291176                 0         103         all     4        all        1   \n",
      "291177                 0         103         all     5        all        1   \n",
      "291178                 0         103         all     6        all        1   \n",
      "291179                 0         103         all     7        all        1   \n",
      "291180                 0         103         all     8        all        1   \n",
      "291181                 0         103         all     9        all        1   \n",
      "291182                 0         103         all    13        all        1   \n",
      "291183                 0         103         all    18        all        1   \n",
      "291184                 0         103         all    20        all        1   \n",
      "291185                 0         103         all     0        all        1   \n",
      "291186                 0         103         all    22        all        1   \n",
      "291187                 0         225         all   all        all        1   \n",
      "291188                 0          31         all   all        all        1   \n",
      "291189                 0         152         all   all        all        1   \n",
      "291190                 0         108         all   all        all        1   \n",
      "291191                 0          67         all   all        all        1   \n",
      "291192                 0          13         all   all        all        1   \n",
      "291193                 0         179         all   all        all        1   \n",
      "291194                 0          77         all   all        all        1   \n",
      "291195                 0         174         all   all        all        1   \n",
      "291196                 0          49         all   all        all        1   \n",
      "291197                 0          56         all   all        all        1   \n",
      "291200                 0          62         all   all        all        1   \n",
      "291201                 0         153         all   all        all        1   \n",
      "291202                 0         169         all   all        all        1   \n",
      "291203                 0          16         all   all        all        1   \n",
      "291205                 0         210         all   all        all        1   \n",
      "...                  ...         ...         ...   ...        ...      ...   \n",
      "835896                 2         196           0     1        all        1   \n",
      "835897                 2         196         441     1        all        1   \n",
      "835898                 2         196         472     1        all        1   \n",
      "835899                 2         117         all     1        all        1   \n",
      "835900                 2         182         404     1        all        1   \n",
      "835901                 2         161          17   all        all        1   \n",
      "835902                 2         161          18   all        all        1   \n",
      "835903                 2         161          19   all        all        1   \n",
      "835904                 2         161          20   all        all        1   \n",
      "835905                 2         161          21   all        all        1   \n",
      "835906                 2         161          22   all        all        1   \n",
      "835907                 2         161         262   all        all        1   \n",
      "835908                 2         161         324   all        all        1   \n",
      "835909                 2         161         542   all        all        1   \n",
      "835910                 2         161         556   all        all        1   \n",
      "835911                 2          68         all   all        all        1   \n",
      "835912                 2          85         all   all        all        1   \n",
      "835913                 2         124         all   all        all        1   \n",
      "835914                 2          58         all   all        all        1   \n",
      "835915                 2         154         all   all        all        1   \n",
      "835916                 2          30         all   all        all        1   \n",
      "835917                 2         200         all   all        all        1   \n",
      "835918                 2         223         all   all        all        1   \n",
      "835919                 2         140         all   all        all        1   \n",
      "835920                 2         155         all   all        all        1   \n",
      "835921                 2         218         all   all        all        1   \n",
      "848561                 0           5         all   all        all        1   \n",
      "848562                 2           5         all   all        all        1   \n",
      "848643                 0           8         all   all        all        1   \n",
      "848647                 2           8         all   all        all        1   \n",
      "\n",
      "        id_group  \n",
      "id                \n",
      "291173      5461  \n",
      "291174      5461  \n",
      "291175      5461  \n",
      "291176      5461  \n",
      "291177      5461  \n",
      "291178      5461  \n",
      "291179      5461  \n",
      "291180      5461  \n",
      "291181      5461  \n",
      "291182      5461  \n",
      "291183      5461  \n",
      "291184      5461  \n",
      "291185      5461  \n",
      "291186      5461  \n",
      "291187      5491  \n",
      "291188      5435  \n",
      "291189      5474  \n",
      "291190      5463  \n",
      "291191      5448  \n",
      "291192      5430  \n",
      "291193      5481  \n",
      "291194      5452  \n",
      "291195      5480  \n",
      "291196      5442  \n",
      "291197      5443  \n",
      "291200      5446  \n",
      "291201      5475  \n",
      "291202      5479  \n",
      "291203      5431  \n",
      "291205      5486  \n",
      "...          ...  \n",
      "835896      9365  \n",
      "835897      9368  \n",
      "835898      9375  \n",
      "835899      9402  \n",
      "835900      9416  \n",
      "835901      5478  \n",
      "835902      5478  \n",
      "835903      5478  \n",
      "835904      5478  \n",
      "835905      5478  \n",
      "835906      5478  \n",
      "835907      5478  \n",
      "835908      5478  \n",
      "835909      5478  \n",
      "835910      5478  \n",
      "835911     11514  \n",
      "835912     11517  \n",
      "835913     11522  \n",
      "835914     11523  \n",
      "835915     11524  \n",
      "835916     11525  \n",
      "835917     11526  \n",
      "835918     11527  \n",
      "835919     11528  \n",
      "835920     11529  \n",
      "835921     11530  \n",
      "848561     14130  \n",
      "848562     14130  \n",
      "848643      9235  \n",
      "848647      9235  \n",
      "\n",
      "[983 rows x 11 columns]\n"
     ]
    }
   ],
   "source": [
    "print campaign_info[campaign_info[\"idcampaign\"] == 4044]\n"
   ]
  },
  {
   "cell_type": "code",
   "execution_count": 9,
   "metadata": {
    "collapsed": false
   },
   "outputs": [
    {
     "name": "stdout",
     "output_type": "stream",
     "text": [
      "2425\n"
     ]
    }
   ],
   "source": [
    "print campaign_info[\"id_application\"].nunique()"
   ]
  },
  {
   "cell_type": "code",
   "execution_count": null,
   "metadata": {
    "collapsed": false
   },
   "outputs": [],
   "source": [
    "df_merge = pd.merge(df, campaign_info[['idcampaign','id_partner','id_application','id_country','id_operator','id_os',\n",
    "                                     'id_browser','exclude']], how=\"left\", on = ['idcampaign'])"
   ]
  },
  {
   "cell_type": "code",
   "execution_count": null,
   "metadata": {
    "collapsed": true
   },
   "outputs": [],
   "source": [
    "df_merge.to_csv(\"campaign_tesmost_0715_withmorecampaigninfo.csv\")"
   ]
  },
  {
   "cell_type": "code",
   "execution_count": null,
   "metadata": {
    "collapsed": true
   },
   "outputs": [],
   "source": []
  }
 ],
 "metadata": {
  "kernelspec": {
   "display_name": "Python 2",
   "language": "python",
   "name": "python2"
  },
  "language_info": {
   "codemirror_mode": {
    "name": "ipython",
    "version": 2
   },
   "file_extension": ".py",
   "mimetype": "text/x-python",
   "name": "python",
   "nbconvert_exporter": "python",
   "pygments_lexer": "ipython2",
   "version": "2.7.10"
  }
 },
 "nbformat": 4,
 "nbformat_minor": 0
}
