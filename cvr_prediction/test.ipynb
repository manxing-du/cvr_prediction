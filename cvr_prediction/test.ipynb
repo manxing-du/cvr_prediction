{
 "cells": [
  {
   "cell_type": "code",
   "execution_count": 2,
   "metadata": {
    "collapsed": false
   },
   "outputs": [],
   "source": [
    "import numpy as np\n",
    "import pandas as pd\n",
    "from lr_model import LR_predict,LR_fit_country\n",
    "from sklearn.cluster import KMeans\n",
    "from sklearn.datasets import load_svmlight_file\n",
    "\n",
    "import pickle\n",
    "from read_sparse_matrix import convert_to_sparse_matrix\n",
    "from kmeans_cluster import Run_Kmeans\n",
    "from sklearn.metrics import roc_curve, auc, roc_auc_score, mean_squared_error\n",
    "\n",
    "\n",
    "\n",
    "from sklearn.linear_model import LogisticRegression\n",
    "from sklearn.naive_bayes import GaussianNB\n",
    "from sklearn.ensemble import RandomForestClassifier\n",
    "from sklearn.ensemble import VotingClassifier\n",
    "\n",
    "from sklearn.naive_bayes import MultinomialNB\n",
    "from math import sqrt\n",
    "from sklearn.grid_search import GridSearchCV"
   ]
  },
  {
   "cell_type": "code",
   "execution_count": null,
   "metadata": {
    "collapsed": false
   },
   "outputs": [],
   "source": [
    "'''\n",
    "def cluster_lr_model(mtx_train,mtx_test,num_cluster):\n",
    "    cluster_train, cluster_test = Run_Kmeans(mtx_train, mtx_test, num_cluster)\n",
    "\n",
    "    pCVR_all = []\n",
    "    label_reset = []\n",
    "    for i in np.unique(cluster_train):\n",
    "        # if i == 2:\n",
    "        #    break\n",
    "        # Get training data from each cluster\n",
    "        cluster_index = np.where(cluster_train == i)[0]\n",
    "        cluster_label = label_train[cluster_index]\n",
    "\n",
    "        cluster_label = np.ravel(cluster_label)\n",
    "        cluster_features = mtx_train[cluster_index, :]\n",
    "\n",
    "        ###cluster in test set\n",
    "        test_cluster_index = np.where(cluster_test == i)[0]\n",
    "        test_cluster_label = label_test[test_cluster_index]\n",
    "        test_cluster_label = np.ravel(test_cluster_label)\n",
    "        test_cluster_features = mtx_test[test_cluster_index, :]\n",
    "        \n",
    "        ##check label in clusters\n",
    "        if len(set(cluster_label))==1 :\n",
    "            if cluster_label[0] == 1:\n",
    "                print(\"Cluster %d has eCVR: 1 \" % (i))\n",
    "                pCVR = np.ones((len(test_cluster_label),1))\n",
    "            else:\n",
    "                print(\"Cluster %d has eCVR: 0\" % (i))\n",
    "                pCVR = np.zeros((len(test_cluster_label),0))\n",
    "            \n",
    "        else:\n",
    "            pCVR, predict_CVR, auc_score, lg_rmse = LR_predict(cluster_features, cluster_label,\n",
    "                                                           test_cluster_features, test_cluster_label)\n",
    "            unique, counts = np.unique(test_cluster_label, return_counts=True)\n",
    "            eCVR = float(counts[1]) / float(sum(counts))\n",
    "            print(\"Cluster %d ROC AUC score for LR is %.4f, eCVR is %.4f, RMSE is %.4f\" % (i, auc_score, eCVR, lg_rmse))\n",
    "\n",
    "        pCVR_all.extend(pCVR[:, 1])\n",
    "        label_reset.extend(test_cluster_label)\n",
    "        \n",
    "    overall_auc = roc_auc_score(label_reset, pCVR_all)\n",
    "    print (\"Overall auc is %.4f\" % overall_auc)\n",
    "    print np.sqrt(mean_squared_error(label_reset, pCVR_all))\n",
    "'''"
   ]
  },
  {
   "cell_type": "code",
   "execution_count": null,
   "metadata": {
    "collapsed": false
   },
   "outputs": [],
   "source": [
    "'''\n",
    "\n",
    "def country_lr_model(mtx_train,train_country_list):\n",
    "    print \"###total country\"\n",
    "    print len(np.unique(train_country_list))\n",
    "    for country in np.unique(train_country_list):\n",
    "        country_group_index = np.where(np.array(train_country_list) == str(country))[0]\n",
    "        country_group_label = label_train[country_group_index]\n",
    "        country_group_label = np.ravel(country_group_label)\n",
    "        country_features = mtx_train[country_group_index, :]\n",
    "        \n",
    "        \n",
    "        #print \"#### group index\"\n",
    "        #print len(country_group_index)\n",
    "        country_purchase = len(set(country_group_label))\n",
    "        if country_purchase == 1:\n",
    "            continue\n",
    "        else:\n",
    "            model = LR_fit_country(country_features, country_group_label)\n",
    "            if country not in country_model:\n",
    "                country_model[country] = model\n",
    "    print \"total country\"\n",
    "    print len(country_model.keys())\n",
    "    return country_model\n",
    "\n",
    "\n",
    "def country_lr_model_prediction(mtx_test, test_country_list, country_model):\n",
    "    for country in np.unique(test_country_list):\n",
    "        ###cluster in test set\n",
    "        test_country_index = np.where(np.array(test_country_list) == country)[0]\n",
    "        test_country_label = label_test[test_country_index]\n",
    "        test_country_label = np.ravel(test_country_label)\n",
    "        test_country_features = mtx_test[test_country_index, :]\n",
    "        \n",
    "        \n",
    "        ## TODO: If country has a model\n",
    "        if country in country_model:\n",
    "            model = pickle.loads(country_model[country])\n",
    "            pCVR = model.predict_proba(test_country_features)\n",
    "            unique, counts = np.unique(test_country_label, return_counts=True)\n",
    "            if unique == 1:\n",
    "                eCVR == 0.0\n",
    "                \n",
    "            else:\n",
    "                eCVR = float(counts[1]) / float(sum(counts))\n",
    "            predict_CVR = np.mean(pCVR[:, 1])\n",
    "            auc_score = roc_auc_score(test_country_label, pCVR[:, 1])\n",
    "            lg_rmse = sqrt(mean_squared_error(test_country_label, pCVR[:, 1]))\n",
    "        else:\n",
    "            pCVR.append(0.0)\n",
    "            eCVR = None\n",
    "            predict_CVR = None\n",
    "            auc_score = None\n",
    "            lg_rmse = None\n",
    "        \n",
    "        return country, pCVR, eCVR, predict_CVR, auc_score, lg_rmse\n",
    "        \n",
    "        \n",
    "'''"
   ]
  },
  {
   "cell_type": "code",
   "execution_count": null,
   "metadata": {
    "collapsed": false
   },
   "outputs": [],
   "source": [
    "\n",
    "if __name__ == '__main__':\n",
    "    # Reading training and testing data\n",
    "    #train_data = file('../../../iPinyou/ipinyou-data-addflag/train.flag.libsvm.txt').readlines()\n",
    "    #test_data = file('../../../iPinyou/ipinyou-data-addflag/test.flag.libsvm.txt').readlines()\n",
    "    \n",
    "    #train_data = file('../../../iPinyou/make-ipinyou-data-master/2261/train.yzx.txt').readlines()\n",
    "    #test_data = file('../../../iPinyou/make-ipinyou-data-master/2261/test.yzx.txt').readlines()\n",
    "    \n",
    "    train_data = file('../Data/binary/train_1519.xyz.txt').readlines()\n",
    "    test_data = file('../Data/binary/test_2021.xyz.txt').readlines()\n",
    "    \n",
    "    #mtx_train, label_train, train_country_list = convert_to_sparse_matrix(train_data)\n",
    "    #mtx_test, label_test, test_country_list= convert_to_sparse_matrix(test_data)\n",
    "    mtx_train, label_train = convert_to_sparse_matrix(train_data)\n",
    "    mtx_test, label_test = convert_to_sparse_matrix(test_data)\n",
    "    \n",
    "\n",
    "    ##### calculate empirical cvr\n",
    "    elements, repeats = np.unique(label_test, return_counts=True)\n",
    "    cvr = float(repeats[1]) / float(repeats.sum())\n",
    "    print cvr\n",
    "\n",
    "    '''\n",
    "    ##### One Logistic Regression\n",
    "    pCVR, predict_CVR, auc_score, lg_rmse = LR_predict(mtx_train,label_train,mtx_test,label_test)\n",
    "    print(\"LR predicted CVR is %.5f\" % predict_CVR)\n",
    "    print(\"ROC AUC score for LR is %.4f\" % auc_score)\n",
    "    print(\"rmse is %.4f\" % lg_rmse)\n",
    "    '''"
   ]
  },
  {
   "cell_type": "code",
   "execution_count": null,
   "metadata": {
    "collapsed": true
   },
   "outputs": [],
   "source": [
    "    dense_mtx_train = mtx_train.toarray()\n",
    "    dense_mtx_test = mtx_test.toarray()"
   ]
  },
  {
   "cell_type": "code",
   "execution_count": null,
   "metadata": {
    "collapsed": true
   },
   "outputs": [],
   "source": [
    "    mtx_train_only_decay_purchase = mtx_train[:,:-2]"
   ]
  },
  {
   "cell_type": "code",
   "execution_count": null,
   "metadata": {
    "collapsed": false
   },
   "outputs": [],
   "source": [
    "    #print mtx_train_only_decay_purchase.shape"
   ]
  },
  {
   "cell_type": "code",
   "execution_count": null,
   "metadata": {
    "collapsed": true
   },
   "outputs": [],
   "source": [
    "    mtx_test_only_decay_purchase = mtx_test[:,:-2]"
   ]
  },
  {
   "cell_type": "code",
   "execution_count": null,
   "metadata": {
    "collapsed": false
   },
   "outputs": [],
   "source": [
    "    ##### calculate empirical cvr\n",
    "    elements, repeats = np.unique(label_train, return_counts=True)\n",
    "    traincvr = float(repeats[1]) / float(repeats.sum())\n",
    "    print traincvr"
   ]
  },
  {
   "cell_type": "code",
   "execution_count": null,
   "metadata": {
    "collapsed": false
   },
   "outputs": [],
   "source": [
    "print mtx_test.shape\n",
    "print mtx_train.shape"
   ]
  },
  {
   "cell_type": "code",
   "execution_count": 4,
   "metadata": {
    "collapsed": false
   },
   "outputs": [
    {
     "name": "stdout",
     "output_type": "stream",
     "text": [
      "LR model with AUC: 0.6522, RMSE: 0.0168, CVR_ratio: 1.3044\n"
     ]
    }
   ],
   "source": [
    "### CTR/CVR predicion One LR model\n",
    "\n",
    "\n",
    "pCVR, predict_CVR, auc_score, lg_rmse = LR_predict(mtx_train,label_train,mtx_test,label_test)\n",
    "rate = float(predict_CVR)/cvr\n",
    "print (\"LR model with AUC: %.4f, RMSE: %.4f, CVR_ratio: %.4f\" %(auc_score, lg_rmse, rate))\n"
   ]
  },
  {
   "cell_type": "code",
   "execution_count": null,
   "metadata": {
    "collapsed": false
   },
   "outputs": [],
   "source": [
    "print predict_CVR"
   ]
  },
  {
   "cell_type": "code",
   "execution_count": null,
   "metadata": {
    "collapsed": false
   },
   "outputs": [],
   "source": [
    "##### Clustering + LR per cluster\n",
    "#cluster_lr_model(mtx_train,mtx_test,16)\n",
    "# Testing"
   ]
  },
  {
   "cell_type": "code",
   "execution_count": null,
   "metadata": {
    "collapsed": false
   },
   "outputs": [],
   "source": [
    "'''\n",
    "# LR per country\n",
    "country_model = {}\n",
    "country_model = country_lr_model(mtx_train,train_country_list)\n",
    "country, pCVR, eCVR, predict_CVR, auc_score, lg_rmse = country_lr_model_prediction(mtx_test, test_country_list, country_model)\n",
    "print (\"country %s with eCVR %.4f, auc_score is %.4f, lg_rmse is %.4f\" % (country, eCVR,auc_score,lg_rmse))\n",
    "'''"
   ]
  },
  {
   "cell_type": "code",
   "execution_count": null,
   "metadata": {
    "collapsed": false
   },
   "outputs": [],
   "source": [
    "'''\n",
    "###Ensembling models\n",
    "clf1 = LogisticRegression(random_state=44,penalty='l2')\n",
    "clf2 = RandomForestClassifier(random_state=1, n_estimators=100)\n",
    "clf3 = MultinomialNB()\n",
    "eclf = VotingClassifier(estimators=[('lr', clf1), ('rf', clf2)], voting='soft')\n",
    "'''"
   ]
  },
  {
   "cell_type": "code",
   "execution_count": null,
   "metadata": {
    "collapsed": false
   },
   "outputs": [],
   "source": [
    "'''\n",
    "clf = RandomForestClassifier(random_state=1, n_estimators=100)\n",
    "clf = clf.fit(mtx_train,label_train)\n",
    "pCVR = clf.predict_proba(mtx_test)\n",
    "auc_score = roc_auc_score(label_test,pCVR[:,1])\n",
    "print auc_score\n",
    "'''"
   ]
  },
  {
   "cell_type": "code",
   "execution_count": null,
   "metadata": {
    "collapsed": false
   },
   "outputs": [],
   "source": [
    "'''\n",
    "eclf = eclf.fit(mtx_train,label_train)\n",
    "pCVR = eclf.predict_proba(mtx_test)\n",
    "auc_score = roc_auc_score(label_test,pCVR[:,1])\n",
    "'''"
   ]
  },
  {
   "cell_type": "code",
   "execution_count": null,
   "metadata": {
    "collapsed": false
   },
   "outputs": [],
   "source": [
    "#params = {'lr__C': [1.0, 100.0], 'rf__n_estimators': [20, 200],}\n",
    "#grid = GridSearchCV(estimator=eclf, param_grid=params, cv=5, scoring=\"roc_auc\")\n",
    "#grid = grid.fit(mtx_train.toarray(), label_train.ravel())"
   ]
  },
  {
   "cell_type": "code",
   "execution_count": null,
   "metadata": {
    "collapsed": false
   },
   "outputs": [],
   "source": [
    "\n",
    "'''\n",
    "lg_rmse = sqrt(mean_squared_error(label_test, pCVR[:,1]))\n",
    "predict_CVR = np.mean(pCVR[:,1])\n",
    "rate = float(predict_CVR)/cvr\n",
    "print (\"Ensemble model with AUC: %.4f, RMSE: %.4f, CVR_ratio: %.4f\" %(auc_score, lg_rmse, rate)) \n",
    "'''\n"
   ]
  },
  {
   "cell_type": "code",
   "execution_count": null,
   "metadata": {
    "collapsed": false
   },
   "outputs": [],
   "source": [
    "##Grid search prameters\n",
    "'''\n",
    "pCVR = grid.predict_proba(mtx_test)\n",
    "auc_score = roc_auc_score(label_test,pCVR[:,1])\n",
    "lg_rmse = sqrt(mean_squared_error(label_test, pCVR[:,1]))\n",
    "predict_CVR = np.mean(pCVR[:,1])\n",
    "rate = float(predict_CVR)/cvr\n",
    "print (\"Ensemble model after gridsearch with AUC: %.4f, RMSE: %.4f, CVR_ratio: %.4f\" %(auc_score, lg_rmse, rate)) \n",
    "'''"
   ]
  }
 ],
 "metadata": {
  "kernelspec": {
   "display_name": "Python 2",
   "language": "python",
   "name": "python2"
  },
  "language_info": {
   "codemirror_mode": {
    "name": "ipython",
    "version": 2
   },
   "file_extension": ".py",
   "mimetype": "text/x-python",
   "name": "python",
   "nbconvert_exporter": "python",
   "pygments_lexer": "ipython2",
   "version": "2.7.10"
  }
 },
 "nbformat": 4,
 "nbformat_minor": 0
}
