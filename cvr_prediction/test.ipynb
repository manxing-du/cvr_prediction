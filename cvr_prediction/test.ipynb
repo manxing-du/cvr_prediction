{
 "cells": [
  {
   "cell_type": "code",
   "execution_count": 1,
   "metadata": {
    "collapsed": true
   },
   "outputs": [],
   "source": [
    "import numpy as np\n",
    "import pandas as pd\n",
    "from lr_model import LR_predict,LR_fit_country\n",
    "from sklearn.cluster import KMeans\n",
    "\n",
    "\n",
    "import pickle\n",
    "from read_sparse_matrix import convert_to_sparse_matrix\n",
    "from kmeans_cluster import Run_Kmeans\n",
    "from sklearn.metrics import roc_curve, auc, roc_auc_score, mean_squared_error"
   ]
  },
  {
   "cell_type": "code",
   "execution_count": 23,
   "metadata": {
    "collapsed": true
   },
   "outputs": [],
   "source": [
    "def cluster_lr_model(mtx_train,mtx_test,num_cluster):\n",
    "    cluster_train, cluster_test = Run_Kmeans(mtx_train, mtx_test, num_cluster)\n",
    "\n",
    "    pCVR_all = []\n",
    "    label_reset = []\n",
    "    for i in np.unique(cluster_train):\n",
    "        # if i == 2:\n",
    "        #    break\n",
    "        # Get training data from each cluster\n",
    "        cluster_index = np.where(cluster_train == i)[0]\n",
    "        cluster_label = label_train[cluster_index]\n",
    "\n",
    "        cluster_label = np.ravel(cluster_label)\n",
    "        cluster_features = mtx_train[cluster_index, :]\n",
    "\n",
    "        ###cluster in test set\n",
    "        test_cluster_index = np.where(cluster_test == i)[0]\n",
    "        test_cluster_label = label_test[test_cluster_index]\n",
    "        test_cluster_label = np.ravel(test_cluster_label)\n",
    "        test_cluster_features = mtx_test[test_cluster_index, :]\n",
    "\n",
    "        pCVR, predict_CVR, auc_score, lg_rmse = LR_predict(cluster_features, cluster_label,\n",
    "                                                           test_cluster_features, test_cluster_label)\n",
    "\n",
    "        unique, counts = np.unique(test_cluster_label, return_counts=True)\n",
    "        eCVR = float(counts[1]) / float(sum(counts))\n",
    "        print(\"Cluster %d ROC AUC score for LR is %.4f, eCVR is %.4f, RMSE is %.4f\" % (i, auc_score, eCVR, lg_rmse))\n",
    "\n",
    "        pCVR_all.extend(pCVR[:, 1])\n",
    "        label_reset.extend(test_cluster_label)\n",
    "        \n",
    "    overall_auc = roc_auc_score(label_reset, pCVR_all)\n",
    "    print (\"Overall auc is %.4f\" % overall_auc)\n",
    "    print np.sqrt(mean_squared_error(label_reset, pCVR_all))"
   ]
  },
  {
   "cell_type": "code",
   "execution_count": 14,
   "metadata": {
    "collapsed": true
   },
   "outputs": [],
   "source": [
    "def country_lr_model(mtx_train,train_country_list):\n",
    "    print \"###total country\"\n",
    "    print len(np.unique(train_country_list))\n",
    "    for country in np.unique(train_country_list):\n",
    "        country_group_index = np.where(np.array(train_country_list) == str(country))[0]\n",
    "        country_group_label = label_train[country_group_index]\n",
    "        country_group_label = np.ravel(country_group_label)\n",
    "        country_features = mtx_train[country_group_index, :]\n",
    "        \n",
    "        \n",
    "        #print \"#### group index\"\n",
    "        #print len(country_group_index)\n",
    "        country_purchase = len(set(country_group_label))\n",
    "        if country_purchase == 1:\n",
    "            continue\n",
    "        else:\n",
    "            model = LR_fit_country(country_features, country_group_label)\n",
    "            if country not in country_model:\n",
    "                country_model[country] = model\n",
    "    print \"total country\"\n",
    "    print len(country_model.keys())\n",
    "    return country_model\n",
    "\n",
    "\n",
    "def country_lr_model_prediction(mtx_test, test_country_list, country_model):\n",
    "    for country in np.unique(test_country_list):\n",
    "        ###cluster in test set\n",
    "        test_country_index = np.where(np.array(test_country_list) == country)[0]\n",
    "        test_country_label = label_test[test_country_index]\n",
    "        test_country_label = np.ravel(test_country_label)\n",
    "        test_country_features = mtx_test[test_country_index, :]\n",
    "        \n",
    "        \n",
    "        ## TODO: If country has a model\n",
    "        if country in country_model:\n",
    "            model = pickle.loads(country_model[country])\n",
    "            pCVR = model.predict_proba(test_country_features)\n",
    "            unique, counts = np.unique(test_country_label, return_counts=True)\n",
    "            if unique == 1:\n",
    "                eCVR == 0.0\n",
    "                \n",
    "            else:\n",
    "                eCVR = float(counts[1]) / float(sum(counts))\n",
    "            predict_CVR = np.mean(pCVR[:, 1])\n",
    "            auc_score = roc_auc_score(test_country_label, pCVR[:, 1])\n",
    "            lg_rmse = sqrt(mean_squared_error(test_country_label, pCVR[:, 1]))\n",
    "        else:\n",
    "            pCVR.append(0.0)\n",
    "            eCVR = None\n",
    "            predict_CVR = None\n",
    "            auc_score = None\n",
    "            lg_rmse = None\n",
    "        \n",
    "        return country, pCVR, eCVR, predict_CVR, auc_score, lg_rmse"
   ]
  },
  {
   "cell_type": "code",
   "execution_count": null,
   "metadata": {
    "collapsed": false
   },
   "outputs": [],
   "source": [
    "if __name__ == '__main__':\n",
    "    # Reading training and testing data\n",
    "    train_data = file('../../../iPinyou/ipinyou-data-addflag/train.flag.txt').readlines()\n",
    "    test_data = file('../../../iPinyou/ipinyou-data-addflag/test.flag.txt').readlines()\n",
    "\n",
    "    #mtx_train, label_train, train_country_list = convert_to_sparse_matrix(train_data)\n",
    "    #mtx_test, label_test, test_country_list= convert_to_sparse_matrix(test_data)\n",
    "    mtx_train, label_train = convert_to_sparse_matrix(train_data)\n",
    "    mtx_test, label_test = convert_to_sparse_matrix(test_data)\n",
    "    \n",
    "\n",
    "    ##### calculate empirical cvr\n",
    "    elements, repeats = np.unique(label_test, return_counts=True)\n",
    "    cvr = float(repeats[1]) / float(repeats.sum())\n",
    "    print cvr\n",
    "\n",
    "    '''\n",
    "    ##### One Logistic Regression\n",
    "    pCVR, predict_CVR, auc_score, lg_rmse = LR_predict(mtx_train,label_train,mtx_test,label_test)\n",
    "    print(\"LR predicted CVR is %.5f\" % predict_CVR)\n",
    "    print(\"ROC AUC score for LR is %.4f\" % auc_score)\n",
    "    print(\"rmse is %.4f\" % lg_rmse)\n",
    "    '''"
   ]
  },
  {
   "cell_type": "code",
   "execution_count": 12,
   "metadata": {
    "collapsed": false
   },
   "outputs": [
    {
     "name": "stdout",
     "output_type": "stream",
     "text": [
      "<type 'str'>\n"
     ]
    }
   ],
   "source": [
    "print type(train_country_list[0])"
   ]
  },
  {
   "cell_type": "code",
   "execution_count": 8,
   "metadata": {
    "collapsed": false
   },
   "outputs": [
    {
     "name": "stdout",
     "output_type": "stream",
     "text": [
      "Cluster 0 ROC AUC score for LR is 0.9206, eCVR is 0.0003, RMSE is 0.0175\n",
      "Cluster 1 ROC AUC score for LR is 0.7616, eCVR is 0.0066, RMSE is 0.0809\n",
      "Cluster 2 ROC AUC score for LR is 0.7457, eCVR is 0.0059, RMSE is 0.0760\n",
      "Cluster 3 ROC AUC score for LR is 0.7141, eCVR is 0.0044, RMSE is 0.0663\n",
      "Cluster 4 ROC AUC score for LR is 0.6852, eCVR is 0.0020, RMSE is 0.0449\n",
      "Cluster 5 ROC AUC score for LR is 0.7267, eCVR is 0.0051, RMSE is 0.0810\n",
      "Cluster 6 ROC AUC score for LR is 0.7519, eCVR is 0.0058, RMSE is 0.0760\n",
      "Cluster 7 ROC AUC score for LR is 0.7610, eCVR is 0.0009, RMSE is 0.0299\n",
      "Cluster 8 ROC AUC score for LR is 0.6586, eCVR is 0.0022, RMSE is 0.0466\n",
      "Cluster 9 ROC AUC score for LR is 0.8308, eCVR is 0.0021, RMSE is 0.0459\n",
      "Cluster 10 ROC AUC score for LR is 0.7965, eCVR is 0.0023, RMSE is 0.0479\n",
      "Cluster 11 ROC AUC score for LR is 0.6517, eCVR is 0.0023, RMSE is 0.0478\n",
      "Cluster 12 ROC AUC score for LR is 0.5889, eCVR is 0.0025, RMSE is 0.0503\n",
      "Cluster 13 ROC AUC score for LR is 0.7964, eCVR is 0.0042, RMSE is 0.0647\n",
      "Cluster 14 ROC AUC score for LR is 0.6516, eCVR is 0.0116, RMSE is 0.1072\n",
      "Cluster 15 ROC AUC score for LR is 0.7980, eCVR is 0.0014, RMSE is 0.0367\n",
      "Overall auc is 0.7755\n",
      "0.0661536864374\n"
     ]
    }
   ],
   "source": [
    "##### Clustering + LR per cluster\n",
    "    cluster_lr_model(mtx_train,mtx_test,16)\n",
    "    # Testing"
   ]
  },
  {
   "cell_type": "code",
   "execution_count": 15,
   "metadata": {
    "collapsed": false
   },
   "outputs": [
    {
     "name": "stdout",
     "output_type": "stream",
     "text": [
      "###total country\n",
      "223\n",
      "total country\n",
      "172\n"
     ]
    },
    {
     "ename": "IndexError",
     "evalue": "index 1 is out of bounds for axis 0 with size 1",
     "output_type": "error",
     "traceback": [
      "\u001b[0;31m---------------------------------------------------------------------------\u001b[0m",
      "\u001b[0;31mIndexError\u001b[0m                                Traceback (most recent call last)",
      "\u001b[0;32m<ipython-input-15-a9da843779ef>\u001b[0m in \u001b[0;36m<module>\u001b[0;34m()\u001b[0m\n\u001b[1;32m      2\u001b[0m \u001b[0mcountry_model\u001b[0m \u001b[0;34m=\u001b[0m \u001b[0;34m{\u001b[0m\u001b[0;34m}\u001b[0m\u001b[0;34m\u001b[0m\u001b[0m\n\u001b[1;32m      3\u001b[0m \u001b[0mcountry_model\u001b[0m \u001b[0;34m=\u001b[0m \u001b[0mcountry_lr_model\u001b[0m\u001b[0;34m(\u001b[0m\u001b[0mmtx_train\u001b[0m\u001b[0;34m,\u001b[0m\u001b[0mtrain_country_list\u001b[0m\u001b[0;34m)\u001b[0m\u001b[0;34m\u001b[0m\u001b[0m\n\u001b[0;32m----> 4\u001b[0;31m \u001b[0mcountry\u001b[0m\u001b[0;34m,\u001b[0m \u001b[0mpCVR\u001b[0m\u001b[0;34m,\u001b[0m \u001b[0meCVR\u001b[0m\u001b[0;34m,\u001b[0m \u001b[0mpredict_CVR\u001b[0m\u001b[0;34m,\u001b[0m \u001b[0mauc_score\u001b[0m\u001b[0;34m,\u001b[0m \u001b[0mlg_rmse\u001b[0m \u001b[0;34m=\u001b[0m \u001b[0mcountry_lr_model_prediction\u001b[0m\u001b[0;34m(\u001b[0m\u001b[0mmtx_test\u001b[0m\u001b[0;34m,\u001b[0m \u001b[0mtest_country_list\u001b[0m\u001b[0;34m,\u001b[0m \u001b[0mcountry_model\u001b[0m\u001b[0;34m)\u001b[0m\u001b[0;34m\u001b[0m\u001b[0m\n\u001b[0m\u001b[1;32m      5\u001b[0m \u001b[0;32mprint\u001b[0m \u001b[0;34m(\u001b[0m\u001b[0;34m\"country %s with eCVR %.4f, auc_score is %.4f, lg_rmse is %.4f\"\u001b[0m \u001b[0;34m%\u001b[0m \u001b[0;34m(\u001b[0m\u001b[0mcountry\u001b[0m\u001b[0;34m,\u001b[0m \u001b[0meCVR\u001b[0m\u001b[0;34m,\u001b[0m\u001b[0mauc_score\u001b[0m\u001b[0;34m,\u001b[0m\u001b[0mlg_rmse\u001b[0m\u001b[0;34m)\u001b[0m\u001b[0;34m)\u001b[0m\u001b[0;34m\u001b[0m\u001b[0m\n",
      "\u001b[0;32m<ipython-input-14-d3e48b95d420>\u001b[0m in \u001b[0;36mcountry_lr_model_prediction\u001b[0;34m(mtx_test, test_country_list, country_model)\u001b[0m\n\u001b[1;32m     41\u001b[0m \u001b[0;34m\u001b[0m\u001b[0m\n\u001b[1;32m     42\u001b[0m             \u001b[0;32melse\u001b[0m\u001b[0;34m:\u001b[0m\u001b[0;34m\u001b[0m\u001b[0m\n\u001b[0;32m---> 43\u001b[0;31m                 \u001b[0meCVR\u001b[0m \u001b[0;34m=\u001b[0m \u001b[0mfloat\u001b[0m\u001b[0;34m(\u001b[0m\u001b[0mcounts\u001b[0m\u001b[0;34m[\u001b[0m\u001b[0;36m1\u001b[0m\u001b[0;34m]\u001b[0m\u001b[0;34m)\u001b[0m \u001b[0;34m/\u001b[0m \u001b[0mfloat\u001b[0m\u001b[0;34m(\u001b[0m\u001b[0msum\u001b[0m\u001b[0;34m(\u001b[0m\u001b[0mcounts\u001b[0m\u001b[0;34m)\u001b[0m\u001b[0;34m)\u001b[0m\u001b[0;34m\u001b[0m\u001b[0m\n\u001b[0m\u001b[1;32m     44\u001b[0m             \u001b[0mpredict_CVR\u001b[0m \u001b[0;34m=\u001b[0m \u001b[0mnp\u001b[0m\u001b[0;34m.\u001b[0m\u001b[0mmean\u001b[0m\u001b[0;34m(\u001b[0m\u001b[0mpCVR\u001b[0m\u001b[0;34m[\u001b[0m\u001b[0;34m:\u001b[0m\u001b[0;34m,\u001b[0m \u001b[0;36m1\u001b[0m\u001b[0;34m]\u001b[0m\u001b[0;34m)\u001b[0m\u001b[0;34m\u001b[0m\u001b[0m\n\u001b[1;32m     45\u001b[0m             \u001b[0mauc_score\u001b[0m \u001b[0;34m=\u001b[0m \u001b[0mroc_auc_score\u001b[0m\u001b[0;34m(\u001b[0m\u001b[0mtest_country_label\u001b[0m\u001b[0;34m,\u001b[0m \u001b[0mpCVR\u001b[0m\u001b[0;34m[\u001b[0m\u001b[0;34m:\u001b[0m\u001b[0;34m,\u001b[0m \u001b[0;36m1\u001b[0m\u001b[0;34m]\u001b[0m\u001b[0;34m)\u001b[0m\u001b[0;34m\u001b[0m\u001b[0m\n",
      "\u001b[0;31mIndexError\u001b[0m: index 1 is out of bounds for axis 0 with size 1"
     ]
    }
   ],
   "source": [
    "# LR per country\n",
    "country_model = {}\n",
    "country_model = country_lr_model(mtx_train,train_country_list)\n",
    "country, pCVR, eCVR, predict_CVR, auc_score, lg_rmse = country_lr_model_prediction(mtx_test, test_country_list, country_model)\n",
    "print (\"country %s with eCVR %.4f, auc_score is %.4f, lg_rmse is %.4f\" % (country, eCVR,auc_score,lg_rmse))"
   ]
  },
  {
   "cell_type": "code",
   "execution_count": 13,
   "metadata": {
    "collapsed": false
   },
   "outputs": [
    {
     "name": "stdout",
     "output_type": "stream",
     "text": [
      "['125']\n"
     ]
    }
   ],
   "source": [
    "print train_country_list"
   ]
  }
 ],
 "metadata": {
  "kernelspec": {
   "display_name": "Python 2",
   "language": "python",
   "name": "python2"
  },
  "language_info": {
   "codemirror_mode": {
    "name": "ipython",
    "version": 2
   },
   "file_extension": ".py",
   "mimetype": "text/x-python",
   "name": "python",
   "nbconvert_exporter": "python",
   "pygments_lexer": "ipython2",
   "version": "2.7.10"
  }
 },
 "nbformat": 4,
 "nbformat_minor": 0
}
